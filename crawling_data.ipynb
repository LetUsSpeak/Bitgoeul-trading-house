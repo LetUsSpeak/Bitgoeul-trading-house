{
  "nbformat": 4,
  "nbformat_minor": 5,
  "metadata": {
    "kernelspec": {
      "display_name": "Python 3",
      "language": "python",
      "name": "python3"
    },
    "language_info": {
      "codemirror_mode": {
        "name": "ipython",
        "version": 3
      },
      "file_extension": ".py",
      "mimetype": "text/x-python",
      "name": "python",
      "nbconvert_exporter": "python",
      "pygments_lexer": "ipython3",
      "version": "3.8.8"
    },
    "colab": {
      "name": "crawling_data.ipynb",
      "provenance": []
    }
  },
  "cells": [
    {
      "cell_type": "code",
      "metadata": {
        "id": "dea5a372"
      },
      "source": [
        "pip install Selenium"
      ],
      "id": "dea5a372",
      "execution_count": null,
      "outputs": []
    },
    {
      "cell_type": "code",
      "metadata": {
        "id": "8b824bc3"
      },
      "source": [
        "import os\n",
        "import urllib.request as req\n",
        "from selenium import webdriver\n",
        "from selenium.webdriver.common.keys import Keys\n",
        "import time\n",
        "import pandas as pd\n",
        "import pickle"
      ],
      "id": "8b824bc3",
      "execution_count": null,
      "outputs": []
    },
    {
      "cell_type": "code",
      "metadata": {
        "id": "d8999344"
      },
      "source": [
        "category = {'디저트, 베이커리, 떡': '5c6bc7d4-7760-4702-b63f-7f29eca479e3',\n",
        "            '음료(커피, 차 등)': '613ac4c3-df73-4a0f-b3dd-362849dabb2a',\n",
        "            '수제 반찬': 'b3f853b9-333d-4eec-ad04-e4604d9d501b',\n",
        "            '의류, 홈웨어': 'd9e8a56d-ae4c-4020-b043-9417fe26fbec',\n",
        "            '지갑(지폐, 카드, 동전, 명함)': 'a9970f75-ea75-11e4-8a46-06fd000000c2',\n",
        "            '가방, 파우치': 'bc5f4be5-c6bc-11e3-8b03-06fd000000c2',\n",
        "            '시계': 'bc6a17ba-ea75-11e4-8878-06a6fa0000b9',\n",
        "            '섬유, 퀼트': '8b4bf95d-c6bc-11e3-8577-06f4fe0000b5',\n",
        "            '남성 수제화': '1fc3c71a-88d6-4333-a09e-178e85bb742f',\n",
        "            '여성 수제화': '65477a55-7f4f-4a0f-9b05-dcaa271a8385',\n",
        "            '육아, 아동': '0556009b-f9c6-11e3-8363-06fd000000c2',\n",
        "            '반지': '387867a4-0da4-11e4-873e-06f4fe0000b5',\n",
        "            '귀걸이': 'ac599662-0cdf-11e4-85f1-06fd000000c2',\n",
        "            '목걸이': 'aef50134-0cdf-11e4-8182-06530c0000b4',\n",
        "            '팔찌': 'b12b42eb-0cdf-11e4-85f1-06fd000000c2',\n",
        "            '꽃(생화, 드라이, 다육)': 'bec56c93-ea75-11e4-8a46-06fd000000c2',\n",
        "            '캔들, 디퓨저, 방향제': '976cfb97-c6bc-11e3-83fc-06530c0000b4',\n",
        "            '인테리어 소품': '66299878-c6bc-11e3-8577-06f4fe0000b5',\n",
        "            '가구': 'e866743b-0a33-4030-80c1-3a1ec943b0e4',\n",
        "            '인형, 장난감': 'fa8c9d8e-c6bb-11e3-8577-06f4fe0000b5',\n",
        "            '반려동물 용품': 'f6335574-c6bb-11e3-83fc-06530c0000b4',\n",
        "            '공예': '9f4b9a69-c6bc-11e3-954e-06a6fa0000b9',\n",
        "            '휴대폰 케이스': 'b3b31a1b-ea75-11e4-8a46-06fd000000c2',\n",
        "            '전자기기 관련': 'a923ab08-0643-11e4-98ba-06f4fe0000b5',\n",
        "            '문구, 팬시': 'b00844bc-c6bc-11e3-8577-06f4fe0000b5',\n",
        "            '페인팅, 캐리커쳐': 'e3ba45b3-c165-11e3-8788-06fd000000c2',\n",
        "            '향수, 화장품, 뷰티': 'c468e7db-ea75-11e4-b903-06f4fe0000b5',\n",
        "            '비누, 천연비누': 'be3cf842-ea74-11e4-8878-06a6fa0000b9',\n",
        "            }"
      ],
      "id": "d8999344",
      "execution_count": null,
      "outputs": []
    },
    {
      "cell_type": "code",
      "metadata": {
        "id": "48d20b2b"
      },
      "source": [
        "driver = webdriver.Chrome()"
      ],
      "id": "48d20b2b",
      "execution_count": null,
      "outputs": []
    },
    {
      "cell_type": "code",
      "metadata": {
        "id": "3855ac88"
      },
      "source": [
        "if not os.path.exists('./아이디어스'):\n",
        "    os.mkdir('./아이디어스')\n",
        "\n",
        "label = 0\n",
        "for category_name, category_id in category.items():\n",
        "    if not os.path.exists(f'./아이디어스/{category_name}'):\n",
        "        os.mkdir(f'./아이디어스/{category_name}')\n",
        "    \n",
        "    url = f\"https://www.idus.com/w/main/category/{category_id}\"\n",
        "    driver.get(url)\n",
        "    driver.implicitly_wait(3)\n",
        "    \n",
        "    # 페이지 스크롤 다운 -> 총 120개 데이터 (100개: 학습, 20개: 테스트)\n",
        "    body = driver.find_element_by_css_selector('body')\n",
        "    for i in range(20):\n",
        "        body.send_keys(Keys.PAGE_DOWN)\n",
        "        time.sleep(3)\n",
        "    time.sleep(30)\n",
        "    \n",
        "    # 크롤링\n",
        "    #product_imgs = driver.find_elements_by_css_selector('.product-thumb-img')\n",
        "    product_names = driver.find_elements_by_css_selector('.product-info__name')\n",
        "    #product_prices = driver.find_elements_by_css_selector('.price-sale')\n",
        "\n",
        "    #count = 0\n",
        "    #for image in product_imgs:\n",
        "    #    img_url = image.get_attribute('style')\n",
        "    #    img_url = img_url[23:-3]\n",
        "    #    req.urlretrieve(img_url, f'./아이디어스/{category_name}/{count}.jpg')\n",
        "    #    count += 1\n",
        "    \n",
        "    dic = {}\n",
        "    for name in product_names:\n",
        "        dic[name.text] = label\n",
        "\n",
        "    df = pd.DataFrame(list(dic.items()), columns=['name', 'label'])  \n",
        "    df.to_pickle(f'./아이디어스/제품명_{label}.pkl')\n",
        "    \n",
        "    label += 1\n",
        "    \n",
        "driver.close()"
      ],
      "id": "3855ac88",
      "execution_count": null,
      "outputs": []
    },
    {
      "cell_type": "code",
      "metadata": {
        "id": "46f8dc67"
      },
      "source": [
        "data = []\n",
        "for n in range(28):\n",
        "    data.append(pd.read_pickle(f'./아이디어스/제품명_{n}.pkl'))\n",
        "df = pd.concat(data, axis=0)\n",
        "\n",
        "id = [i+1 for i in range(len(df))]\n",
        "\n",
        "df = pd.DataFrame({'id': id, 'name': list(df['name']), 'label': list(df['label'])})\n",
        "\n",
        "df.to_pickle('./original_product_data.pkl')"
      ],
      "id": "46f8dc67",
      "execution_count": null,
      "outputs": []
    },
    {
      "cell_type": "code",
      "metadata": {
        "id": "dd07ca10",
        "outputId": "83010bb3-0a85-43ab-9b8b-16547c19dd60"
      },
      "source": [
        ""
      ],
      "id": "dd07ca10",
      "execution_count": null,
      "outputs": [
        {
          "data": {
            "text/html": [
              "<div>\n",
              "<style scoped>\n",
              "    .dataframe tbody tr th:only-of-type {\n",
              "        vertical-align: middle;\n",
              "    }\n",
              "\n",
              "    .dataframe tbody tr th {\n",
              "        vertical-align: top;\n",
              "    }\n",
              "\n",
              "    .dataframe thead th {\n",
              "        text-align: right;\n",
              "    }\n",
              "</style>\n",
              "<table border=\"1\" class=\"dataframe\">\n",
              "  <thead>\n",
              "    <tr style=\"text-align: right;\">\n",
              "      <th></th>\n",
              "      <th>id</th>\n",
              "      <th>name</th>\n",
              "      <th>label</th>\n",
              "    </tr>\n",
              "  </thead>\n",
              "  <tbody>\n",
              "    <tr>\n",
              "      <th>0</th>\n",
              "      <td>1</td>\n",
              "      <td>쑥반쌀반 우리쌀 해풍쑥인절미 리얼쑥바</td>\n",
              "      <td>0</td>\n",
              "    </tr>\n",
              "    <tr>\n",
              "      <th>1</th>\n",
              "      <td>2</td>\n",
              "      <td>시즌/수제캔디🎃할로윈데이사탕🎃예약할인</td>\n",
              "      <td>0</td>\n",
              "    </tr>\n",
              "    <tr>\n",
              "      <th>2</th>\n",
              "      <td>3</td>\n",
              "      <td>⭐ 인기짱 다홍에그타르트</td>\n",
              "      <td>0</td>\n",
              "    </tr>\n",
              "    <tr>\n",
              "      <th>3</th>\n",
              "      <td>4</td>\n",
              "      <td>🍘버들골 수제약과🍘</td>\n",
              "      <td>0</td>\n",
              "    </tr>\n",
              "    <tr>\n",
              "      <th>4</th>\n",
              "      <td>5</td>\n",
              "      <td>[그릭데이]그릭요거트 시그니처 600g</td>\n",
              "      <td>0</td>\n",
              "    </tr>\n",
              "    <tr>\n",
              "      <th>5</th>\n",
              "      <td>6</td>\n",
              "      <td>[무가당] 대용량 플레인 그릭요거트, 450g</td>\n",
              "      <td>0</td>\n",
              "    </tr>\n",
              "    <tr>\n",
              "      <th>6</th>\n",
              "      <td>7</td>\n",
              "      <td>❤10월11일출고❤ 달달지다 뚱카롱 마카롱선물낱개 A</td>\n",
              "      <td>0</td>\n",
              "    </tr>\n",
              "    <tr>\n",
              "      <th>7</th>\n",
              "      <td>8</td>\n",
              "      <td>신제품출시기념이벤트5+1♥납짝공갈빵♥</td>\n",
              "      <td>0</td>\n",
              "    </tr>\n",
              "    <tr>\n",
              "      <th>8</th>\n",
              "      <td>9</td>\n",
              "      <td>💛오리지널 게릴라‼️💛녹차,인절미,모카,민트초코</td>\n",
              "      <td>0</td>\n",
              "    </tr>\n",
              "    <tr>\n",
              "      <th>9</th>\n",
              "      <td>10</td>\n",
              "      <td>생일케이크❤ 레터링케이크 택배</td>\n",
              "      <td>0</td>\n",
              "    </tr>\n",
              "  </tbody>\n",
              "</table>\n",
              "</div>"
            ],
            "text/plain": [
              "   id                           name  label\n",
              "0   1           쑥반쌀반 우리쌀 해풍쑥인절미 리얼쑥바      0\n",
              "1   2           시즌/수제캔디🎃할로윈데이사탕🎃예약할인      0\n",
              "2   3                  ⭐ 인기짱 다홍에그타르트      0\n",
              "3   4                     🍘버들골 수제약과🍘      0\n",
              "4   5          [그릭데이]그릭요거트 시그니처 600g      0\n",
              "5   6      [무가당] 대용량 플레인 그릭요거트, 450g      0\n",
              "6   7  ❤10월11일출고❤ 달달지다 뚱카롱 마카롱선물낱개 A      0\n",
              "7   8           신제품출시기념이벤트5+1♥납짝공갈빵♥      0\n",
              "8   9     💛오리지널 게릴라‼️💛녹차,인절미,모카,민트초코      0\n",
              "9  10               생일케이크❤ 레터링케이크 택배      0"
            ]
          },
          "execution_count": 12,
          "metadata": {},
          "output_type": "execute_result"
        }
      ]
    },
    {
      "cell_type": "code",
      "metadata": {
        "id": "ca9dd8fa"
      },
      "source": [
        ""
      ],
      "id": "ca9dd8fa",
      "execution_count": null,
      "outputs": []
    }
  ]
}